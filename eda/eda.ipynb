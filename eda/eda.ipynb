{
 "cells": [
  {
   "cell_type": "markdown",
   "metadata": {},
   "source": [
    "## EDA\n",
    "### 0. 라이브러리"
   ]
  },
  {
   "cell_type": "code",
   "execution_count": null,
   "metadata": {},
   "outputs": [],
   "source": [
    "import os\n",
    "import sys\n",
    "import cv2\n",
    "import json\n",
    "from glob import glob\n",
    "\n",
    "import pandas as pd\n",
    "import seaborn as sns\n",
    "import matplotlib.pyplot as plt\n",
    "from shapely.geometry import Polygon\n",
    "from collections import Counter, defaultdict\n",
    "from calculate import calculate_brightness, calculate_polygon_area\n",
    "\n",
    "sys.path.append(\"/data/ephemeral/home/repo\")\n",
    "from utils.resources import CLASSES"
   ]
  },
  {
   "cell_type": "markdown",
   "metadata": {},
   "source": [
    "### 1. 경로"
   ]
  },
  {
   "cell_type": "code",
   "execution_count": null,
   "metadata": {},
   "outputs": [],
   "source": [
    "image_dir = \"../../data/train/DCM\"\n",
    "json_dir = \"../../data/train/outputs_json\"\n",
    "csv_path = \"../../data/meta_data.csv\""
   ]
  },
  {
   "cell_type": "markdown",
   "metadata": {},
   "source": [
    "### 2. Class 분포\n",
    "#### 2-1. Class별 개수"
   ]
  },
  {
   "cell_type": "code",
   "execution_count": null,
   "metadata": {},
   "outputs": [],
   "source": [
    "label_counts = Counter()\n",
    "\n",
    "for json_file in glob(os.path.join(json_dir, \"**\", \"*.json\"), recursive=True):\n",
    "    with open(json_file, \"r\", encoding=\"utf-8\") as file:\n",
    "        data = json.load(file)\n",
    "        label_counts.update(annotation['label'] for annotation in data['annotations'])\n",
    "\n",
    "plt.figure(figsize=(30, 10))\n",
    "plt.bar(label_counts.keys(), label_counts.values(), color=\"skyblue\")\n",
    "plt.xlabel(\"Class Label\")\n",
    "plt.ylabel(\"Count\")"
   ]
  },
  {
   "cell_type": "markdown",
   "metadata": {},
   "source": [
    "#### 2-2. Class별 pixel 차지 비율"
   ]
  },
  {
   "cell_type": "code",
   "execution_count": null,
   "metadata": {},
   "outputs": [],
   "source": [
    "json_files = glob(os.path.join(json_dir, 'ID*', '*.json'))\n",
    "\n",
    "label_pixel_counts = defaultdict(float)\n",
    "image_ids = []\n",
    "\n",
    "for json_file in json_files:\n",
    "    with open(json_file, 'r', encoding='utf-8') as file:\n",
    "        data = json.load(file)\n",
    "\n",
    "    image_width = data['metadata']['width']\n",
    "    image_height = data['metadata']['height']\n",
    "    total_pixels = image_width * image_height\n",
    "\n",
    "    for annotation in data['annotations']:\n",
    "        label = annotation['label']\n",
    "        points = annotation['points']\n",
    "\n",
    "        polygon = Polygon(points)\n",
    "        area = polygon.area\n",
    "\n",
    "        label_pixel_counts[label] += area\n",
    "\n",
    "    image_id = os.path.basename(json_file).replace('.json', '')\n",
    "    label_count = Counter(annotation['label'] for annotation in data['annotations'])\n",
    "    \n",
    "    if len(label_count) != 29:\n",
    "        image_ids.append(image_id)\n",
    "\n",
    "total_area = sum(label_pixel_counts.values())\n",
    "\n",
    "label_pixel_ratios = {label: (count / total_area) * 100 for label, count in label_pixel_counts.items()}\n",
    "\n",
    "labels = list(label_pixel_ratios.keys())\n",
    "ratios = list(label_pixel_ratios.values())\n",
    "\n",
    "plt.figure(figsize=(10, 6))\n",
    "plt.bar(labels, ratios, color=\"skyblue\")\n",
    "plt.xlabel('Class')\n",
    "plt.ylabel('Pixel Ratio (%)')\n",
    "plt.title('Pixel Ratio by Class')\n",
    "plt.xticks(rotation=45, ha='right')\n",
    "plt.tight_layout()\n",
    "plt.show()"
   ]
  },
  {
   "cell_type": "markdown",
   "metadata": {},
   "source": [
    "#### 2-3. 이미지 당 29개의 클래스 유무 확인"
   ]
  },
  {
   "cell_type": "code",
   "execution_count": null,
   "metadata": {},
   "outputs": [],
   "source": [
    "print(f\"클래스 29개를 포함하지 않는 Image ID: {image_ids}\")"
   ]
  },
  {
   "cell_type": "markdown",
   "metadata": {},
   "source": [
    "### 3.Metadata 분포\n",
    "#### 3-1. 나이, 성별, 몸무게, 키 분포"
   ]
  },
  {
   "cell_type": "code",
   "execution_count": null,
   "metadata": {},
   "outputs": [],
   "source": [
    "meta_data = pd.read_csv(csv_path)\n",
    "\n",
    "meta_data.columns = ['ID', 'Age', 'Gender', 'Weight', 'Height', 'Extra']\n",
    "meta_data = meta_data.replace({'Gender' : '남'}, 'Male')\n",
    "meta_data = meta_data.replace({'Gender' : '여'}, 'Female')\n",
    "\n",
    "plt.figure(figsize=(12, 10))\n",
    "\n",
    "# 나이 분포\n",
    "plt.subplot(2, 2, 1)\n",
    "sns.histplot(meta_data['Age'], bins=10, kde=True, color=\"skyblue\")\n",
    "plt.title(\"Age Distribution\")\n",
    "plt.xlabel(\"Age\")\n",
    "plt.ylabel(\"Frequency\")\n",
    "\n",
    "# 성별 분포\n",
    "plt.subplot(2, 2, 2)\n",
    "sns.countplot(x='Gender', data=meta_data, hue='Gender', palette=\"Set2\", legend=False)\n",
    "plt.title(\"Gender Distribution\")\n",
    "plt.xlabel(\"Gender\")\n",
    "plt.ylabel(\"Count\")\n",
    "\n",
    "# 몸무게 분포\n",
    "plt.subplot(2, 2, 3)\n",
    "sns.histplot(meta_data['Weight'], bins=10, kde=True, color=\"lightgreen\")\n",
    "plt.title(\"Weight Distribution\")\n",
    "plt.xlabel(\"Weight (kg)\")\n",
    "plt.ylabel(\"Frequency\")\n",
    "\n",
    "# 키 분포\n",
    "plt.subplot(2, 2, 4)\n",
    "sns.histplot(meta_data['Height'], bins=10, kde=True, color=\"salmon\")\n",
    "plt.title(\"Height Distribution\")\n",
    "plt.xlabel(\"Height (cm)\")\n",
    "plt.ylabel(\"Frequency\")\n",
    "\n",
    "plt.tight_layout()\n",
    "plt.show()"
   ]
  },
  {
   "cell_type": "markdown",
   "metadata": {},
   "source": [
    "#### 3-2. 성별에 따른 나이, 몸무게, 키 분포"
   ]
  },
  {
   "cell_type": "code",
   "execution_count": null,
   "metadata": {},
   "outputs": [],
   "source": [
    "plt.figure(figsize=(18, 5))\n",
    "\n",
    "# 성별에 따른 나이 분포\n",
    "plt.subplot(1, 3, 1)\n",
    "sns.histplot(data=meta_data, x=\"Age\", hue=\"Gender\", bins=10, kde=True, palette=\"Set2\")\n",
    "plt.title(\"Age Distribution by Gender\")\n",
    "\n",
    "# 성별에 따른 몸무게 분포\n",
    "plt.subplot(1, 3, 2)\n",
    "sns.histplot(data=meta_data, x=\"Weight\", hue=\"Gender\", bins=10, kde=True, palette=\"Set2\")\n",
    "plt.title(\"Weight Distribution by Gender\")\n",
    "\n",
    "# 성별에 따른 키 분포\n",
    "plt.subplot(1, 3, 3)\n",
    "sns.histplot(data=meta_data, x=\"Height\", hue=\"Gender\", bins=10, kde=True, palette=\"Set2\")\n",
    "plt.title(\"Height Distribution by Gender\")\n",
    "\n",
    "plt.tight_layout()\n",
    "plt.show()"
   ]
  },
  {
   "cell_type": "markdown",
   "metadata": {},
   "source": [
    "#### 3-3. 나이에 따른 뼈의 밀도 분포"
   ]
  },
  {
   "cell_type": "markdown",
   "metadata": {},
   "source": [
    "##### - Metadata, train 데이터 join (2분 30초 소요!)"
   ]
  },
  {
   "cell_type": "code",
   "execution_count": null,
   "metadata": {},
   "outputs": [],
   "source": [
    "IMAGE_ROOT = image_dir\n",
    "LABEL_ROOT = json_dir\n",
    "CLASS2IND = {v: i for i, v in enumerate(CLASSES)}\n",
    "IND2CLASS = {v: k for k, v in CLASS2IND.items()}\n",
    "\n",
    "pngs = {\n",
    "    os.path.relpath(os.path.join(root, fname), start=IMAGE_ROOT)\n",
    "    for root, _dirs, files in os.walk(IMAGE_ROOT)\n",
    "    for fname in files\n",
    "    if os.path.splitext(fname)[1].lower() == \".png\"\n",
    "}\n",
    "jsons = {\n",
    "    os.path.relpath(os.path.join(root, fname), start=LABEL_ROOT)\n",
    "    for root, _dirs, files in os.walk(LABEL_ROOT)\n",
    "    for fname in files\n",
    "    if os.path.splitext(fname)[1].lower() == \".json\"\n",
    "}\n",
    "pngs = sorted(pngs)\n",
    "jsons = sorted(jsons)\n",
    "file_names = {json_file[:-5] for json_file in jsons}\n",
    "brightness = dict()\n",
    "areas = dict()\n",
    "\n",
    "# 밝기 정보와 면적 정보 추출\n",
    "for path in file_names:\n",
    "    brightness[path] = []\n",
    "    areas[path] = []\n",
    "    image_path = os.path.join(IMAGE_ROOT, path) + \".png\"\n",
    "    json_path  = os.path.join(LABEL_ROOT, path) + \".json\"\n",
    "    image = cv2.imread(image_path)\n",
    "    gray_image = cv2.cvtColor(image, cv2.COLOR_BGR2GRAY)\n",
    "    with open(json_path) as json_file:\n",
    "        anns = json.load(json_file)[\"annotations\"]\n",
    "        for class_id, ann in enumerate(anns):\n",
    "            total = 0\n",
    "            points = ann[\"points\"]\n",
    "            for (x, y) in points:\n",
    "                total += gray_image[y][x]\n",
    "            avg = total / len(points)\n",
    "            brightness[path].append(calculate_brightness(gray_image, points))\n",
    "            areas[path].append(calculate_polygon_area(points))\n",
    "\n",
    "brightness_df = defaultdict(lambda: [0] * 29)\n",
    "area_df = defaultdict(lambda: [0] * 29)\n",
    "for file_path, lst in brightness.items():\n",
    "    id = int(file_path[2:5])\n",
    "    for i in range(len(lst)):\n",
    "        brightness_df[id][i] += lst[i]/2\n",
    "for file_path, lst in areas.items():\n",
    "    id = int(file_path[2:5])\n",
    "    for i in range(len(lst)):\n",
    "        area_df[id][i] += lst[i]\n",
    "        \n",
    "brightness_df = pd.DataFrame(brightness_df).T\n",
    "brightness_df = brightness_df.reset_index()\n",
    "brightness_df = brightness_df.rename(columns={'index': 'ID'})  # 기존 인덱스를 'ID'로 이름 변경\n",
    "area_df = pd.DataFrame(area_df).T\n",
    "area_df = area_df.reset_index()\n",
    "area_df = area_df.rename(columns={'index': 'ID'})  # 기존 인덱스를 'ID'로 이름 변경\n",
    "\n",
    "train_id_list = set()\n",
    "for path in jsons:\n",
    "    id = int(path[2:5])\n",
    "    train_id_list.add(id)\n",
    "train_df = meta_data[meta_data[\"ID\"].isin(train_id_list)]"
   ]
  },
  {
   "cell_type": "code",
   "execution_count": null,
   "metadata": {},
   "outputs": [],
   "source": [
    "final_df = pd.merge(brightness_df, train_df, on=\"ID\", how=\"inner\")\n",
    "final_df[\"total\"] = final_df.loc[:, 0:28].mean(axis=1)\n",
    "\n",
    "fig, axes = plt.subplots(15, 2, figsize=(20, 100))\n",
    "for i in range(29):\n",
    "    axes[i//2][i%2].set_title(f\"class: {CLASSES[i]}\")\n",
    "    axes[i//2][i%2].set_ylim(0, 200)\n",
    "    axes[i//2][i%2].scatter(final_df[\"Age\"], final_df[i], alpha=0.5)\n",
    "    axes[i//2][i%2].set_xlabel(\"Age\")\n",
    "    axes[i//2][i%2].set_ylabel(\"Brightness\")\n",
    "plt.show()"
   ]
  },
  {
   "cell_type": "markdown",
   "metadata": {},
   "source": [
    "#### 3-4. 성별에 따른 뼈 밀도 분포"
   ]
  },
  {
   "cell_type": "code",
   "execution_count": null,
   "metadata": {},
   "outputs": [],
   "source": [
    "fig, axes = plt.subplots(15, 2, figsize=(20, 100))\n",
    "\n",
    "for i in range(29):\n",
    "    for gender in [\"Male\", \"Female\"]:\n",
    "        gender_df = final_df[final_df[\"Gender\"]==gender]\n",
    "        axes[i//2][i%2].hist(gender_df[i], alpha=0.5, label=\"Male\" if gender==\"Male\" else \"Female\", bins=60)\n",
    "        axes[i//2][i%2].set_title(f\"{CLASSES[i]}\")\n",
    "        axes[i//2][i%2].set_xlim(60, 180)\n",
    "        axes[i//2][i%2].set_ylim(0, 35)\n",
    "        axes[i//2][i%2].legend()\n",
    "        axes[i//2][i%2].set_xlabel(\"brightness\")\n",
    "plt.show()"
   ]
  },
  {
   "cell_type": "markdown",
   "metadata": {},
   "source": [
    "#### 3-5. 키에 따른 뼈 면적 분포"
   ]
  },
  {
   "cell_type": "code",
   "execution_count": null,
   "metadata": {},
   "outputs": [],
   "source": [
    "area_merge = pd.merge(area_df, train_df, on=\"ID\", how=\"inner\")\n",
    "\n",
    "fig, axes = plt.subplots(15, 2, figsize=(20, 100))\n",
    "for i in range(29):\n",
    "    axes[i//2][i%2].scatter(area_merge[\"Height\"], area_merge[i], alpha=0.5, color=\"green\")\n",
    "    axes[i//2][i%2].set_title(f\"{CLASSES[i]}\")\n",
    "    if i == 0 or i == 1 or i==8:\n",
    "        axes[i//2][i%2].set_ylim(0, 60000)\n",
    "    elif i == 3 or i==4 or i==7 or i==11 or i ==15 or i==16:\n",
    "        axes[i//2][i%2].set_ylim(0, 30000)\n",
    "    elif i==19:\n",
    "        axes[i//2][i%2].set_ylim(0, 70000)\n",
    "    elif i==12 or i==20 or i==24 or i==25:\n",
    "        axes[i//2][i%2].set_ylim(0, 40000)\n",
    "plt.show()"
   ]
  }
 ],
 "metadata": {
  "kernelspec": {
   "display_name": "base",
   "language": "python",
   "name": "python3"
  },
  "language_info": {
   "codemirror_mode": {
    "name": "ipython",
    "version": 3
   },
   "file_extension": ".py",
   "mimetype": "text/x-python",
   "name": "python",
   "nbconvert_exporter": "python",
   "pygments_lexer": "ipython3",
   "version": "3.10.13"
  }
 },
 "nbformat": 4,
 "nbformat_minor": 2
}
